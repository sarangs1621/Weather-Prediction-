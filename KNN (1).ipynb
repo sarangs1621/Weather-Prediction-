{
 "cells": [
  {
   "cell_type": "code",
   "execution_count": 1,
   "metadata": {},
   "outputs": [],
   "source": [
    "import pandas as pd\n",
    "from sklearn.model_selection import train_test_split\n",
    "from sklearn.preprocessing import StandardScaler, LabelEncoder\n",
    "from sklearn.neighbors import KNeighborsClassifier\n",
    "from sklearn.metrics import accuracy_score\n",
    "from scipy.stats import zscore"
   ]
  },
  {
   "cell_type": "markdown",
   "metadata": {},
   "source": [
    "### Dataset 1"
   ]
  },
  {
   "cell_type": "code",
   "execution_count": 2,
   "metadata": {},
   "outputs": [
    {
     "data": {
      "text/plain": [
       "Flow           0\n",
       "(mph)          0\n",
       "Temperature    0\n",
       "DewPoint       0\n",
       "Humidity       0\n",
       "Wind           0\n",
       "WindSpeed      0\n",
       "WindGust       0\n",
       "Pressure       0\n",
       "Precip.        0\n",
       "Condition      0\n",
       "dtype: int64"
      ]
     },
     "execution_count": 2,
     "metadata": {},
     "output_type": "execute_result"
    }
   ],
   "source": [
    "#Loading the Dataset\n",
    "data = pd.read_csv('traffic_weather.csv')\n",
    "#Checking for missing values\n",
    "data.isnull().sum()"
   ]
  },
  {
   "cell_type": "code",
   "execution_count": 3,
   "metadata": {},
   "outputs": [
    {
     "data": {
      "text/plain": [
       "4"
      ]
     },
     "execution_count": 3,
     "metadata": {},
     "output_type": "execute_result"
    }
   ],
   "source": [
    "#Checking for duplicates\n",
    "data.duplicated().sum()"
   ]
  },
  {
   "cell_type": "code",
   "execution_count": 4,
   "metadata": {},
   "outputs": [],
   "source": [
    "#Removing duplicates\n",
    "data.drop_duplicates(inplace=True)"
   ]
  },
  {
   "cell_type": "code",
   "execution_count": 5,
   "metadata": {},
   "outputs": [],
   "source": [
    "#Encoding categorical variables\n",
    "label_encoder = LabelEncoder()\n",
    "data['Wind'] = label_encoder.fit_transform(data['Wind'])"
   ]
  },
  {
   "cell_type": "code",
   "execution_count": 6,
   "metadata": {},
   "outputs": [
    {
     "name": "stdout",
     "output_type": "stream",
     "text": [
      "Test Accuracy: 0.99\n"
     ]
    }
   ],
   "source": [
    "#Categorising the features into X and y\n",
    "X = data[['Wind', 'DewPoint','Flow','(mph)', 'Temperature', 'Humidity','WindSpeed','Pressure','WindGust','Precip.']]\n",
    "y = data['Condition']\n",
    "\n",
    "#Splitting the dataset into training and testing\n",
    "X_train, X_test, y_train, y_test = train_test_split(X, y, test_size=0.3, random_state=42)\n",
    "\n",
    "#Scaling the values before fitting into the model\n",
    "scaler = StandardScaler()\n",
    "X_train_scaled = scaler.fit_transform(X_train)\n",
    "X_test_scaled = scaler.transform(X_test)\n",
    "\n",
    "#Creating a Knn model with k as 5 found by trial\n",
    "knn = KNeighborsClassifier(n_neighbors=5)\n",
    "\n",
    "#Training the model with the scaled data\n",
    "knn.fit(X_train_scaled, y_train)\n",
    "\n",
    "#Testing the model\n",
    "test_predictions = knn.predict(X_test_scaled)\n",
    "\n",
    "#Evaluating the model using the accuracy_score evaluation metric\n",
    "test_accuracy = accuracy_score(y_test, test_predictions)\n",
    "print(f'Test Accuracy: {test_accuracy:.2f}')"
   ]
  },
  {
   "cell_type": "markdown",
   "metadata": {},
   "source": [
    "### Dataset 2"
   ]
  },
  {
   "cell_type": "code",
   "execution_count": 7,
   "metadata": {},
   "outputs": [
    {
     "data": {
      "text/plain": [
       "precipitation    0\n",
       "temp_max         0\n",
       "temp_min         0\n",
       "wind             0\n",
       "weather          0\n",
       "dtype: int64"
      ]
     },
     "execution_count": 7,
     "metadata": {},
     "output_type": "execute_result"
    }
   ],
   "source": [
    "#Loading the Dataset\n",
    "data = pd.read_csv('seattle-weather.csv')\n",
    "#Checking for missing values\n",
    "data.isnull().sum()"
   ]
  },
  {
   "cell_type": "code",
   "execution_count": 8,
   "metadata": {},
   "outputs": [
    {
     "data": {
      "text/plain": [
       "8"
      ]
     },
     "execution_count": 8,
     "metadata": {},
     "output_type": "execute_result"
    }
   ],
   "source": [
    "#Checking for duplicates\n",
    "data.duplicated().sum()"
   ]
  },
  {
   "cell_type": "code",
   "execution_count": 9,
   "metadata": {},
   "outputs": [],
   "source": [
    "#Removing duplicates\n",
    "data.drop_duplicates(inplace=True)"
   ]
  },
  {
   "cell_type": "code",
   "execution_count": 10,
   "metadata": {},
   "outputs": [
    {
     "name": "stdout",
     "output_type": "stream",
     "text": [
      "Test Accuracy: 0.78\n"
     ]
    }
   ],
   "source": [
    "#Removing Outliers with the help of z score\n",
    "z_scores = zscore(data[['precipitation', 'temp_max', 'temp_min', 'wind']])\n",
    "new_data = data[(z_scores < 3).all(axis=1)]\n",
    "\n",
    "#Catgorizing the features into X and y\n",
    "X = new_data[['precipitation', 'temp_max', 'temp_min', 'wind']]\n",
    "y = new_data['weather']\n",
    "\n",
    "#Splitting the dataset into Training and Testing\n",
    "X_train, X_test, y_train, y_test = train_test_split(X, y, test_size=0.15, random_state=42)\n",
    "\n",
    "#Scaling the values before fitting into the model\n",
    "scaler = StandardScaler()\n",
    "X_train_scaled = scaler.fit_transform(X_train)\n",
    "X_test_scaled = scaler.transform(X_test)\n",
    "\n",
    "#Creating a KNN model with k as 34 found by trial\n",
    "knn = KNeighborsClassifier(n_neighbors=34)\n",
    "\n",
    "#Training the model\n",
    "knn.fit(X_train_scaled, y_train)\n",
    "\n",
    "#Testing the model\n",
    "test_predictions = knn.predict(X_test_scaled)\n",
    "\n",
    "#Evaluating the model on the basis of accuracy_Score Evaluation metric\n",
    "test_accuracy = accuracy_score(y_test, test_predictions)\n",
    "print(f'Test Accuracy: {test_accuracy:.2f}')"
   ]
  },
  {
   "cell_type": "markdown",
   "metadata": {},
   "source": [
    "### Dataset 3"
   ]
  },
  {
   "cell_type": "code",
   "execution_count": 11,
   "metadata": {},
   "outputs": [
    {
     "data": {
      "text/plain": [
       "Summary                 0\n",
       "Precip Type             0\n",
       "Temperature             0\n",
       "Apparent Temperature    0\n",
       "Humidity                0\n",
       "Wind Speed (km/h)       0\n",
       "Pressure (millibars)    0\n",
       "dtype: int64"
      ]
     },
     "execution_count": 11,
     "metadata": {},
     "output_type": "execute_result"
    }
   ],
   "source": [
    "#Loading the Dataset\n",
    "data = pd.read_csv('weather3.csv')\n",
    "#Checking for missing values\n",
    "data.isnull().sum()"
   ]
  },
  {
   "cell_type": "code",
   "execution_count": 12,
   "metadata": {},
   "outputs": [
    {
     "data": {
      "text/plain": [
       "0"
      ]
     },
     "execution_count": 12,
     "metadata": {},
     "output_type": "execute_result"
    }
   ],
   "source": [
    "#Checking for duplicates\n",
    "data.duplicated().sum()"
   ]
  },
  {
   "cell_type": "code",
   "execution_count": null,
   "metadata": {},
   "outputs": [],
   "source": [
    "#Encoding categorical variables\n",
    "label_encoder = LabelEncoder()\n",
    "new_data['Precip Type'] = label_encoder.fit_transform(new_data['Precip Type'])"
   ]
  },
  {
   "cell_type": "code",
   "execution_count": 13,
   "metadata": {},
   "outputs": [
    {
     "name": "stdout",
     "output_type": "stream",
     "text": [
      "Test Accuracy: 0.53\n"
     ]
    },
    {
     "name": "stderr",
     "output_type": "stream",
     "text": [
      "C:\\Users\\sachi\\AppData\\Local\\Temp\\ipykernel_22176\\512986078.py:5: SettingWithCopyWarning: \n",
      "A value is trying to be set on a copy of a slice from a DataFrame.\n",
      "Try using .loc[row_indexer,col_indexer] = value instead\n",
      "\n",
      "See the caveats in the documentation: https://pandas.pydata.org/pandas-docs/stable/user_guide/indexing.html#returning-a-view-versus-a-copy\n",
      "  new_data['Precip Type'] = label_encoder.fit_transform(new_data['Precip Type'])\n"
     ]
    }
   ],
   "source": [
    "#Removing the Outliers by z-score method\n",
    "z_scores = zscore(data[['Temperature', 'Apparent Temperature', 'Humidity','Wind Speed (km/h)','Pressure (millibars)']])\n",
    "new_data = data[(z_scores < 3).all(axis=1)]\n",
    "\n",
    "#Categorizing the features into X and y\n",
    "X = new_data[['Precip Type', 'Temperature', 'Apparent Temperature', 'Humidity','Wind Speed (km/h)','Pressure (millibars)']]\n",
    "y = new_data['Summary']\n",
    "\n",
    "#Splitting the dataset into training and testing\n",
    "X_train, X_test, y_train, y_test = train_test_split(X, y, test_size=0.2, random_state=42)\n",
    "\n",
    "#Scaling the values before fitting the model\n",
    "scaler = StandardScaler()\n",
    "X_train_scaled = scaler.fit_transform(X_train)\n",
    "X_test_scaled = scaler.transform(X_test)\n",
    "\n",
    "#Creating a KNN model with k as 25 based on trial\n",
    "knn = KNeighborsClassifier(n_neighbors=25)\n",
    "\n",
    "#Training the model\n",
    "knn.fit(X_train_scaled, y_train)\n",
    "\n",
    "#Testing the model\n",
    "test_predictions = knn.predict(X_test_scaled)\n",
    "\n",
    "#Evaluating the model based on the Accuracy_score Evaluation metric\n",
    "test_accuracy = accuracy_score(y_test, test_predictions)\n",
    "print(f'Test Accuracy: {test_accuracy:.2f}')"
   ]
  }
 ],
 "metadata": {
  "kernelspec": {
   "display_name": "Python 3",
   "language": "python",
   "name": "python3"
  },
  "language_info": {
   "codemirror_mode": {
    "name": "ipython",
    "version": 3
   },
   "file_extension": ".py",
   "mimetype": "text/x-python",
   "name": "python",
   "nbconvert_exporter": "python",
   "pygments_lexer": "ipython3",
   "version": "3.11.5"
  }
 },
 "nbformat": 4,
 "nbformat_minor": 2
}
