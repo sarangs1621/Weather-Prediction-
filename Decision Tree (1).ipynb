{
 "cells": [
  {
   "cell_type": "code",
   "execution_count": 32,
   "metadata": {},
   "outputs": [
    {
     "name": "stdout",
     "output_type": "stream",
     "text": [
      "Accuracy: 46.00%\n"
     ]
    }
   ],
   "source": [
    "# Import necessary libraries\n",
    "import pandas as pd\n",
    "from sklearn.model_selection import train_test_split\n",
    "from sklearn.tree import DecisionTreeClassifier\n",
    "from sklearn.preprocessing import LabelEncoder\n",
    "from sklearn.metrics import accuracy_score\n",
    "\n",
    "# Load your dataset\n",
    "# Assuming your dataset is in a CSV file named 'your_dataset.csv'\n",
    "df = pd.read_csv('weather.csv')\n",
    "\n",
    "# Extract the target variable\n",
    "X = df.drop('Summary', axis=1)\n",
    "y = df['Summary']\n",
    "\n",
    "# Encode categorical columns\n",
    "le_precip = LabelEncoder()\n",
    "X['Precip Type'] = le_precip.fit_transform(X['Precip Type'])\n",
    "\n",
    "# Extract features from the timestamp (example: hour of the day)\n",
    "X['Hour'] = pd.to_datetime(X['Formatted Date']).dt.hour\n",
    "\n",
    "# Drop the original timestamp column\n",
    "X = X.drop('Formatted Date', axis=1)\n",
    "\n",
    "# Split the dataset into training and testing sets\n",
    "X_train, X_test, y_train, y_test = train_test_split(X, y, test_size=0.2, random_state=42)\n",
    "\n",
    "# Create a decision tree classifier\n",
    "clf = DecisionTreeClassifier()\n",
    "\n",
    "# Train the model on the training set\n",
    "clf.fit(X_train, y_train)\n",
    "\n",
    "# Make predictions on the test set\n",
    "predictions = clf.predict(X_test)\n",
    "\n",
    "# Evaluate the accuracy of the model\n",
    "accuracy = accuracy_score(y_test, predictions)\n",
    "\n",
    "print(f\"Accuracy: {accuracy * 100:.2f}%\")\n"
   ]
  },
  {
   "cell_type": "code",
   "execution_count": 33,
   "metadata": {},
   "outputs": [
    {
     "name": "stdout",
     "output_type": "stream",
     "text": [
      "Accuracy: 75.09%\n"
     ]
    }
   ],
   "source": [
    "# Import necessary libraries\n",
    "import pandas as pd\n",
    "from sklearn.model_selection import train_test_split\n",
    "from sklearn.tree import DecisionTreeClassifier\n",
    "from sklearn.metrics import accuracy_score\n",
    "\n",
    "# Load your dataset\n",
    "# Assuming 'your_dataset.csv' is the name of your CSV file\n",
    "df = pd.read_csv('seattle-weather.csv')\n",
    "\n",
    "# Assuming 'weather' is your target variable, and the other columns are features\n",
    "X = df.drop('weather', axis=1)\n",
    "y = df['weather']\n",
    "\n",
    "# Split the dataset into training and testing sets\n",
    "X_train, X_test, y_train, y_test = train_test_split(X, y, test_size=0.2, random_state=42)\n",
    "\n",
    "# Create a Decision Tree Classifier\n",
    "model = DecisionTreeClassifier()\n",
    "\n",
    "# Train the model\n",
    "model.fit(X_train, y_train)\n",
    "\n",
    "# Make predictions on the test set\n",
    "predictions = model.predict(X_test)\n",
    "\n",
    "# Evaluate accuracy\n",
    "accuracy = accuracy_score(y_test, predictions)\n",
    "\n",
    "print(f\"Accuracy: {accuracy * 100:.2f}%\")\n"
   ]
  },
  {
   "cell_type": "code",
   "execution_count": 57,
   "metadata": {},
   "outputs": [
    {
     "name": "stdout",
     "output_type": "stream",
     "text": [
      "Accuracy: 98.00%\n"
     ]
    }
   ],
   "source": [
    "import pandas as pd\n",
    "from sklearn.model_selection import train_test_split\n",
    "from sklearn.tree import DecisionTreeClassifier\n",
    "from sklearn.metrics import accuracy_score\n",
    "\n",
    "# Step 1: Load your dataset\n",
    "traffic_weather = pd.read_csv('traffic_weather.csv')\n",
    "\n",
    "# Step 2: Handle categorical variables\n",
    "traffic_weather_encoded = pd.get_dummies(traffic_weather, columns=['Wind'])\n",
    "\n",
    "# Assuming 'Condition' is your target variable (label)\n",
    "# If 'Condition' column doesn't exist, please replace it with the correct target column name\n",
    "if 'Condition' in traffic_weather.columns:\n",
    "    # Step 3: Split the dataset into features (X) and labels (y)\n",
    "    X = traffic_weather_encoded.drop('Condition', axis=1)  # Features\n",
    "    y = traffic_weather_encoded['Condition']  # Labels\n",
    "\n",
    "    # Step 4: Split the dataset into training and testing sets\n",
    "    X_train, X_test, y_train, y_test = train_test_split(X, y, test_size=0.2, random_state=42)\n",
    "\n",
    "    # Step 5: Train the decision tree model\n",
    "    model = DecisionTreeClassifier()\n",
    "    model.fit(X_train, y_train)\n",
    "\n",
    "    # Step 6: Evaluate the model\n",
    "    y_pred = model.predict(X_test)\n",
    "    accuracy = accuracy_score(y_test, y_pred)\n",
    "    print(f\"Accuracy: {accuracy * 100:.2f}%\")"
   ]
  }
 ],
 "metadata": {
  "kernelspec": {
   "display_name": "Python 3",
   "language": "python",
   "name": "python3"
  },
  "language_info": {
   "codemirror_mode": {
    "name": "ipython",
    "version": 3
   },
   "file_extension": ".py",
   "mimetype": "text/x-python",
   "name": "python",
   "nbconvert_exporter": "python",
   "pygments_lexer": "ipython3",
   "version": "3.12.1"
  }
 },
 "nbformat": 4,
 "nbformat_minor": 2
}
