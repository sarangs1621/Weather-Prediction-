{
 "cells": [
  {
   "cell_type": "code",
   "execution_count": 9,
   "metadata": {},
   "outputs": [],
   "source": [
    "import pandas as pd\n",
    "import numpy as np\n",
    "import matplotlib.pyplot as plt\n",
    "from sklearn.model_selection import train_test_split\n",
    "from sklearn.preprocessing import StandardScaler\n",
    "from scipy import stats\n",
    "from scipy.stats import zscore\n",
    "from sklearn.linear_model import LogisticRegression\n",
    "from sklearn.metrics import accuracy_score, classification_report, confusion_matrix"
   ]
  },
  {
   "cell_type": "markdown",
   "metadata": {},
   "source": [
    "Dataset 1"
   ]
  },
  {
   "cell_type": "code",
   "execution_count": 10,
   "metadata": {},
   "outputs": [
    {
     "data": {
      "text/plain": [
       "Flow           0\n",
       "(mph)          0\n",
       "Temperature    0\n",
       "Dew Point      0\n",
       "Humidity       0\n",
       "Wind           0\n",
       "Wind Speed     0\n",
       "Wind Gust      0\n",
       "Pressure       0\n",
       "Precip.        0\n",
       "Condition      0\n",
       "dtype: int64"
      ]
     },
     "execution_count": 10,
     "metadata": {},
     "output_type": "execute_result"
    }
   ],
   "source": [
    "df = pd.read_csv(r\"C:\\Users\\HP\\Downloads\\traffic_weather.csv\")\n",
    "df.isnull().sum()"
   ]
  },
  {
   "cell_type": "code",
   "execution_count": 11,
   "metadata": {},
   "outputs": [
    {
     "data": {
      "text/plain": [
       "4"
      ]
     },
     "execution_count": 11,
     "metadata": {},
     "output_type": "execute_result"
    }
   ],
   "source": [
    "df.duplicated().sum()"
   ]
  },
  {
   "cell_type": "code",
   "execution_count": 12,
   "metadata": {},
   "outputs": [],
   "source": [
    "df.drop_duplicates(inplace=True)"
   ]
  },
  {
   "cell_type": "code",
   "execution_count": 14,
   "metadata": {},
   "outputs": [],
   "source": [
    "df['Wind'] = pd.Categorical(df['Wind']).codes\n",
    "arr=df.values\n",
    "\n",
    "z_scores = zscore(df[['Flow','(mph)', 'Temperature', 'Dew Point','Humidity','Wind','Wind Speed','Wind Gust' ,'Pressure','Precip.']])\n",
    "new_data = df[(z_scores <= 2).all(axis=1)]"
   ]
  },
  {
   "cell_type": "code",
   "execution_count": 15,
   "metadata": {},
   "outputs": [
    {
     "data": {
      "text/plain": [
       "array(['  fair', '  fair', '  fair', '  fair / Windy', 'Partly Cloudy',\n",
       "       '  fair', '  fair', '  fair', '  fair', '  fair', '  fair',\n",
       "       '  fair', '  fair', '  fair', '  fair', '  fair / Windy',\n",
       "       'Partly Cloudy', '  fair', '  fair', '  fair', '  fair', '  fair',\n",
       "       '  fair', '  fair', '  fair', '  fair', '  fair', '  fair',\n",
       "       'Partly Cloudy', '  fair', '  fair', '  fair', '  fair', '  fair',\n",
       "       '  fair / Windy', '  fair', '  fair', '  fair', '  fair',\n",
       "       'Mostly Cloudy', 'Partly Cloudy', '  fair', 'Cloudy',\n",
       "       'Mostly Cloudy', '  fair', '  fair', '  fair', '  fair', '  fair',\n",
       "       '  fair', 'Partly Cloudy', '  fair', '  fair', 'Partly Cloudy',\n",
       "       '  fair', '  fair', '  fair', 'Cloudy', '  fair', '  fair',\n",
       "       'Partly Cloudy', 'Mostly Cloudy', '  fair', 'Partly Cloudy',\n",
       "       '  fair', 'Partly Cloudy', '  fair', '  fair', '  fair', '  fair',\n",
       "       '  fair', '  fair', '  fair', '  fair', 'Mostly Cloudy',\n",
       "       '  fair / Windy', '  fair', '  fair', '  fair', '  fair', '  fair',\n",
       "       '  fair', '  fair', '  fair', '  fair', '  fair', '  fair',\n",
       "       '  fair / Windy', 'Cloudy', '  fair', '  fair', '  fair', '  fair',\n",
       "       '  fair', '  fair', '  fair', '  fair', 'Partly Cloudy / Windy',\n",
       "       '  fair', '  fair', '  fair', '  fair / Windy', '  fair',\n",
       "       '  fair / Windy', '  fair', '  fair / Windy', '  fair', '  fair',\n",
       "       '  fair', 'Partly Cloudy', 'Partly Cloudy', '  fair', '  fair',\n",
       "       '  fair', 'Partly Cloudy', '  fair', '  fair', '  fair', 'Cloudy',\n",
       "       '  fair', '  fair', '  fair', '  fair', '  fair', 'Mostly Cloudy',\n",
       "       '  fair', '  fair', 'Mostly Cloudy', '  fair', '  fair', '  fair',\n",
       "       '  fair', '  fair', '  fair', '  fair', '  fair', '  fair',\n",
       "       'Partly Cloudy', '  fair', '  fair', '  fair / Windy', '  fair',\n",
       "       'Partly Cloudy', '  fair', '  fair', '  fair', '  fair',\n",
       "       'Partly Cloudy', '  fair', '  fair', '  fair', 'Partly Cloudy',\n",
       "       '  fair / Windy', '  fair / Windy', '  fair', '  fair', '  fair',\n",
       "       '  fair', '  fair', '  fair', '  fair', '  fair', '  fair',\n",
       "       'Partly Cloudy', '  fair', '  fair', '  fair', 'Partly Cloudy',\n",
       "       '  fair', '  fair', '  fair', '  fair', 'Cloudy', '  fair',\n",
       "       '  fair', '  fair', '  fair', '  fair', '  fair', '  fair',\n",
       "       '  fair', '  fair', '  fair', '  fair', '  fair', '  fair',\n",
       "       '  fair', '  fair', '  fair', '  fair', '  fair', '  fair',\n",
       "       'Partly Cloudy', '  fair', '  fair', 'Partly Cloudy', '  fair',\n",
       "       '  fair', '  fair', '  fair'], dtype=object)"
      ]
     },
     "execution_count": 15,
     "metadata": {},
     "output_type": "execute_result"
    }
   ],
   "source": [
    "X=arr[:,0:10]\n",
    "Y=arr[:,10]\n",
    "X_train, X_test, y_train, y_test = train_test_split(X, Y, test_size=0.2, random_state=42)\n",
    "\n",
    "scaler = StandardScaler()\n",
    "X_train_scaled = scaler.fit_transform(X_train)\n",
    "X_test_scaled = scaler.transform(X_test)\n",
    "\n",
    "# Create and train the logistic regression model\n",
    "model = LogisticRegression(max_iter=1000)\n",
    "model.fit(X_train_scaled, y_train)\n",
    "\n",
    "# Make predictions on the test set\n",
    "y_pred = model.predict(X_test_scaled)\n",
    "\n",
    "y_pred\n",
    "\n"
   ]
  },
  {
   "cell_type": "code",
   "execution_count": 16,
   "metadata": {},
   "outputs": [
    {
     "name": "stdout",
     "output_type": "stream",
     "text": [
      "Accuracy: 0.9150\n"
     ]
    }
   ],
   "source": [
    "accuracy = accuracy_score(y_test, y_pred)\n",
    "\n",
    "print(f'Accuracy: {accuracy:.4f}')"
   ]
  },
  {
   "cell_type": "markdown",
   "metadata": {},
   "source": [
    "dataset 2"
   ]
  },
  {
   "cell_type": "code",
   "execution_count": 17,
   "metadata": {},
   "outputs": [
    {
     "data": {
      "text/plain": [
       "Pressure                    0\n",
       "Wind Speed                  0\n",
       "Temperature (C)             0\n",
       "Apparent Temperature (C)    0\n",
       "Humidity                    0\n",
       "Summary                     0\n",
       "dtype: int64"
      ]
     },
     "execution_count": 17,
     "metadata": {},
     "output_type": "execute_result"
    }
   ],
   "source": [
    "df = pd.read_csv(r\"C:\\Users\\HP\\Downloads\\weather3.csv\")\n",
    "df.isnull().sum()"
   ]
  },
  {
   "cell_type": "code",
   "execution_count": 18,
   "metadata": {},
   "outputs": [
    {
     "data": {
      "text/plain": [
       "0"
      ]
     },
     "execution_count": 18,
     "metadata": {},
     "output_type": "execute_result"
    }
   ],
   "source": [
    "df.duplicated().sum()"
   ]
  },
  {
   "cell_type": "code",
   "execution_count": 19,
   "metadata": {},
   "outputs": [],
   "source": [
    "df.drop_duplicates(inplace=True)"
   ]
  },
  {
   "cell_type": "code",
   "execution_count": 23,
   "metadata": {},
   "outputs": [],
   "source": [
    "arr=df.values\n",
    "\n",
    "z_scores = zscore(df[['Pressure','Wind Speed', 'Temperature (C)', 'Apparent Temperature (C)','Humidity']])\n",
    "new_data = df[(z_scores <= 2).all(axis=1)]"
   ]
  },
  {
   "cell_type": "code",
   "execution_count": 24,
   "metadata": {},
   "outputs": [
    {
     "data": {
      "text/plain": [
       "array(['Mostly Cloudy', 'Partly Cloudy', 'Partly Cloudy', 'Mostly Cloudy',\n",
       "       'Partly Cloudy', 'Foggy', 'Overcast', 'Mostly Cloudy',\n",
       "       'Partly Cloudy', 'Mostly Cloudy', 'Mostly Cloudy', 'Overcast',\n",
       "       'Overcast', 'Mostly Cloudy', 'Partly Cloudy', 'Mostly Cloudy',\n",
       "       'Partly Cloudy', 'Partly Cloudy', 'Partly Cloudy', 'Overcast',\n",
       "       'Partly Cloudy', 'Mostly Cloudy', 'Partly Cloudy', 'Mostly Cloudy',\n",
       "       'Mostly Cloudy', 'Partly Cloudy', 'Overcast', 'Partly Cloudy',\n",
       "       'Mostly Cloudy', 'Mostly Cloudy', 'Partly Cloudy', 'Mostly Cloudy',\n",
       "       'Mostly Cloudy', 'Mostly Cloudy', 'Partly Cloudy', 'Partly Cloudy',\n",
       "       'Partly Cloudy', 'Overcast', 'Mostly Cloudy', 'Partly Cloudy',\n",
       "       'Partly Cloudy', 'Partly Cloudy', 'Partly Cloudy', 'Partly Cloudy',\n",
       "       'Partly Cloudy', 'Partly Cloudy', 'Partly Cloudy', 'Overcast',\n",
       "       'Partly Cloudy', 'Mostly Cloudy', 'Mostly Cloudy', 'Partly Cloudy',\n",
       "       'Mostly Cloudy', 'Partly Cloudy', 'Partly Cloudy', 'Overcast',\n",
       "       'Mostly Cloudy', 'Mostly Cloudy', 'Foggy', 'Partly Cloudy',\n",
       "       'Foggy', 'Overcast', 'Partly Cloudy', 'Mostly Cloudy', 'Overcast',\n",
       "       'Partly Cloudy', 'Mostly Cloudy', 'Partly Cloudy', 'Overcast',\n",
       "       'Partly Cloudy', 'Overcast', 'Mostly Cloudy', 'Partly Cloudy',\n",
       "       'Partly Cloudy', 'Overcast', 'Partly Cloudy', 'Overcast',\n",
       "       'Mostly Cloudy', 'Mostly Cloudy', 'Partly Cloudy', 'Foggy',\n",
       "       'Overcast', 'Partly Cloudy', 'Overcast', 'Partly Cloudy',\n",
       "       'Partly Cloudy', 'Partly Cloudy', 'Partly Cloudy', 'Mostly Cloudy',\n",
       "       'Mostly Cloudy', 'Partly Cloudy', 'Partly Cloudy', 'Mostly Cloudy',\n",
       "       'Mostly Cloudy', 'Partly Cloudy', 'Partly Cloudy', 'Mostly Cloudy',\n",
       "       'Mostly Cloudy', 'Mostly Cloudy', 'Mostly Cloudy', 'Partly Cloudy',\n",
       "       'Partly Cloudy', 'Partly Cloudy', 'Mostly Cloudy', 'Overcast',\n",
       "       'Overcast', 'Mostly Cloudy', 'Partly Cloudy', 'Mostly Cloudy',\n",
       "       'Mostly Cloudy', 'Partly Cloudy', 'Mostly Cloudy', 'Mostly Cloudy',\n",
       "       'Partly Cloudy', 'Overcast', 'Partly Cloudy', 'Mostly Cloudy',\n",
       "       'Mostly Cloudy', 'Foggy', 'Foggy', 'Partly Cloudy',\n",
       "       'Partly Cloudy', 'Partly Cloudy', 'Partly Cloudy', 'Partly Cloudy',\n",
       "       'Partly Cloudy', 'Overcast', 'Partly Cloudy', 'Partly Cloudy',\n",
       "       'Partly Cloudy', 'Overcast', 'Mostly Cloudy', 'Mostly Cloudy',\n",
       "       'Mostly Cloudy', 'Partly Cloudy', 'Overcast', 'Overcast',\n",
       "       'Partly Cloudy', 'Mostly Cloudy', 'Overcast', 'Mostly Cloudy',\n",
       "       'Mostly Cloudy', 'Partly Cloudy', 'Partly Cloudy', 'Partly Cloudy',\n",
       "       'Mostly Cloudy', 'Mostly Cloudy', 'Mostly Cloudy', 'Partly Cloudy',\n",
       "       'Mostly Cloudy', 'Overcast', 'Partly Cloudy', 'Mostly Cloudy',\n",
       "       'Partly Cloudy', 'Mostly Cloudy', 'Partly Cloudy', 'Overcast',\n",
       "       'Partly Cloudy', 'Partly Cloudy', 'Partly Cloudy', 'Partly Cloudy',\n",
       "       'Mostly Cloudy', 'Overcast', 'Overcast', 'Partly Cloudy',\n",
       "       'Partly Cloudy', 'Mostly Cloudy', 'Partly Cloudy', 'Overcast',\n",
       "       'Partly Cloudy', 'Partly Cloudy', 'Partly Cloudy', 'Partly Cloudy',\n",
       "       'Partly Cloudy', 'Mostly Cloudy', 'Foggy', 'Mostly Cloudy',\n",
       "       'Partly Cloudy', 'Partly Cloudy', 'Foggy', 'Mostly Cloudy',\n",
       "       'Partly Cloudy', 'Partly Cloudy', 'Mostly Cloudy', 'Partly Cloudy',\n",
       "       'Mostly Cloudy', 'Partly Cloudy', 'Foggy', 'Mostly Cloudy',\n",
       "       'Partly Cloudy', 'Mostly Cloudy', 'Mostly Cloudy', 'Overcast',\n",
       "       'Partly Cloudy', 'Partly Cloudy', 'Partly Cloudy', 'Partly Cloudy',\n",
       "       'Mostly Cloudy', 'Mostly Cloudy', 'Overcast'], dtype=object)"
      ]
     },
     "execution_count": 24,
     "metadata": {},
     "output_type": "execute_result"
    }
   ],
   "source": [
    "X=arr[:,0:5]\n",
    "Y=arr[:,5]\n",
    "X_train, X_test, y_train, y_test = train_test_split(X, Y, test_size=0.2, random_state=42)\n",
    "\n",
    "scaler = StandardScaler()\n",
    "X_train_scaled = scaler.fit_transform(X_train)\n",
    "X_test_scaled = scaler.transform(X_test)\n",
    "\n",
    "# Create and train the logistic regression model\n",
    "model = LogisticRegression(max_iter=1000)\n",
    "model.fit(X_train_scaled, y_train)\n",
    "\n",
    "# Make predictions on the test set\n",
    "y_pred = model.predict(X_test_scaled)\n",
    "\n",
    "y_pred\n"
   ]
  },
  {
   "cell_type": "code",
   "execution_count": 25,
   "metadata": {},
   "outputs": [
    {
     "name": "stdout",
     "output_type": "stream",
     "text": [
      "Accuracy: 0.4400\n"
     ]
    }
   ],
   "source": [
    "accuracy = accuracy_score(y_test, y_pred)\n",
    "\n",
    "print(f'Accuracy: {accuracy:.4f}')"
   ]
  },
  {
   "cell_type": "markdown",
   "metadata": {},
   "source": [
    "Dataset 3"
   ]
  },
  {
   "cell_type": "code",
   "execution_count": 33,
   "metadata": {},
   "outputs": [
    {
     "data": {
      "text/plain": [
       "precipitation    0\n",
       "temp_max         0\n",
       "temp_min         0\n",
       "wind             0\n",
       "weather          0\n",
       "dtype: int64"
      ]
     },
     "execution_count": 33,
     "metadata": {},
     "output_type": "execute_result"
    }
   ],
   "source": [
    "df = pd.read_csv(r\"C:\\Users\\HP\\Downloads\\seattle-weather.csv\")\n",
    "df.isnull().sum()\n"
   ]
  },
  {
   "cell_type": "code",
   "execution_count": 31,
   "metadata": {},
   "outputs": [
    {
     "data": {
      "text/plain": [
       "8"
      ]
     },
     "execution_count": 31,
     "metadata": {},
     "output_type": "execute_result"
    }
   ],
   "source": [
    "df.duplicated().sum()"
   ]
  },
  {
   "cell_type": "code",
   "execution_count": 34,
   "metadata": {},
   "outputs": [],
   "source": [
    "df.drop_duplicates(inplace=True)"
   ]
  },
  {
   "cell_type": "code",
   "execution_count": 35,
   "metadata": {},
   "outputs": [],
   "source": [
    "arr=df.values\n",
    "\n",
    "z_scores = zscore(df[['precipitation','temp_max', 'temp_min', 'wind']])\n",
    "new_data = df[(z_scores <= 2).all(axis=1)]"
   ]
  },
  {
   "cell_type": "code",
   "execution_count": 36,
   "metadata": {},
   "outputs": [
    {
     "data": {
      "text/plain": [
       "array(['sun', 'sun', 'sun', 'sun', 'sun', 'rain', 'sun', 'rain', 'sun',\n",
       "       'rain', 'sun', 'sun', 'rain', 'sun', 'rain', 'sun', 'sun', 'sun',\n",
       "       'rain', 'sun', 'sun', 'rain', 'rain', 'sun', 'sun', 'sun', 'sun',\n",
       "       'rain', 'sun', 'rain', 'rain', 'sun', 'sun', 'rain', 'rain',\n",
       "       'rain', 'sun', 'sun', 'sun', 'rain', 'rain', 'sun', 'rain', 'rain',\n",
       "       'sun', 'sun', 'rain', 'rain', 'rain', 'sun', 'snow', 'rain', 'sun',\n",
       "       'rain', 'rain', 'sun', 'rain', 'sun', 'sun', 'sun', 'sun', 'rain',\n",
       "       'rain', 'rain', 'sun', 'rain', 'sun', 'sun', 'sun', 'sun', 'sun',\n",
       "       'sun', 'rain', 'sun', 'sun', 'sun', 'sun', 'rain', 'rain', 'rain',\n",
       "       'sun', 'rain', 'sun', 'sun', 'rain', 'rain', 'rain', 'sun', 'rain',\n",
       "       'rain', 'sun', 'rain', 'sun', 'rain', 'sun', 'sun', 'rain', 'sun',\n",
       "       'sun', 'sun', 'sun', 'rain', 'rain', 'sun', 'sun', 'sun', 'sun',\n",
       "       'sun', 'rain', 'sun', 'sun', 'sun', 'sun', 'sun', 'sun', 'sun',\n",
       "       'sun', 'rain', 'rain', 'sun', 'rain', 'rain', 'sun', 'rain', 'sun',\n",
       "       'sun', 'sun', 'sun', 'sun', 'sun', 'rain', 'sun', 'sun', 'sun',\n",
       "       'sun', 'sun', 'rain', 'sun', 'sun', 'sun', 'sun', 'rain', 'rain',\n",
       "       'rain', 'sun', 'rain', 'sun', 'sun', 'sun', 'sun', 'rain', 'sun',\n",
       "       'sun', 'sun', 'sun', 'rain', 'sun', 'sun', 'rain', 'rain', 'sun',\n",
       "       'rain', 'sun', 'rain', 'rain', 'rain', 'rain', 'rain', 'rain',\n",
       "       'sun', 'rain', 'sun', 'sun', 'rain', 'rain', 'rain', 'rain', 'sun',\n",
       "       'rain', 'sun', 'sun', 'rain', 'rain', 'rain', 'sun', 'rain',\n",
       "       'rain', 'rain', 'rain', 'sun', 'sun', 'sun', 'sun', 'sun', 'sun',\n",
       "       'rain', 'rain', 'sun', 'sun', 'sun', 'sun', 'rain', 'sun', 'sun',\n",
       "       'rain', 'rain', 'sun', 'sun', 'rain', 'sun', 'rain', 'sun', 'sun',\n",
       "       'sun', 'rain', 'sun', 'rain', 'sun', 'rain', 'sun', 'sun', 'rain',\n",
       "       'sun', 'sun', 'sun', 'sun', 'sun', 'sun', 'sun', 'sun', 'sun',\n",
       "       'sun', 'sun', 'sun', 'rain', 'rain', 'rain', 'rain', 'rain',\n",
       "       'rain', 'rain', 'rain', 'rain', 'rain', 'sun', 'rain', 'rain',\n",
       "       'rain', 'rain', 'sun', 'sun', 'sun', 'sun', 'rain', 'rain', 'sun',\n",
       "       'sun', 'sun', 'sun', 'sun', 'rain', 'rain', 'rain', 'sun', 'rain',\n",
       "       'sun', 'sun', 'rain', 'sun', 'rain', 'sun', 'sun', 'rain', 'sun',\n",
       "       'sun', 'sun', 'rain', 'sun', 'rain', 'sun', 'rain', 'rain', 'sun',\n",
       "       'sun', 'rain', 'rain', 'sun', 'sun', 'sun', 'sun', 'rain'],\n",
       "      dtype=object)"
      ]
     },
     "execution_count": 36,
     "metadata": {},
     "output_type": "execute_result"
    }
   ],
   "source": [
    "X=arr[:,0:4]\n",
    "Y=arr[:,4]\n",
    "\n",
    "X_train, X_test, y_train, y_test = train_test_split(X, Y, test_size=0.2, random_state=42)\n",
    "\n",
    "scaler = StandardScaler()\n",
    "X_train_scaled = scaler.fit_transform(X_train)\n",
    "X_test_scaled = scaler.transform(X_test)\n",
    "\n",
    "# Create and train the logistic regression model\n",
    "model = LogisticRegression(max_iter=1000)\n",
    "model.fit(X_train_scaled, y_train)\n",
    "\n",
    "# Make predictions on the test set\n",
    "y_pred = model.predict(X_test_scaled)\n",
    "\n",
    "y_pred\n"
   ]
  },
  {
   "cell_type": "code",
   "execution_count": 37,
   "metadata": {},
   "outputs": [
    {
     "name": "stdout",
     "output_type": "stream",
     "text": [
      "Accuracy: 0.7595\n"
     ]
    }
   ],
   "source": [
    "accuracy = accuracy_score(y_test, y_pred)\n",
    "\n",
    "print(f'Accuracy: {accuracy:.4f}')"
   ]
  }
 ],
 "metadata": {
  "kernelspec": {
   "display_name": "Python 3",
   "language": "python",
   "name": "python3"
  },
  "language_info": {
   "codemirror_mode": {
    "name": "ipython",
    "version": 3
   },
   "file_extension": ".py",
   "mimetype": "text/x-python",
   "name": "python",
   "nbconvert_exporter": "python",
   "pygments_lexer": "ipython3",
   "version": "3.12.0"
  }
 },
 "nbformat": 4,
 "nbformat_minor": 2
}
